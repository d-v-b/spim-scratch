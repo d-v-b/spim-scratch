{
 "cells": [
  {
   "cell_type": "code",
   "execution_count": 2,
   "metadata": {
    "collapsed": true
   },
   "outputs": [],
   "source": [
    "from glob import glob\n",
    "from os import remove, walk\n",
    "from os.path import split, sep, join"
   ]
  },
  {
   "cell_type": "code",
   "execution_count": 3,
   "metadata": {
    "collapsed": true
   },
   "outputs": [],
   "source": [
    "Dirs = [   'F:\\\\Maarten\\\\20170404_2P-PAGFP_RGECO_1-10_20170404_160440\\\\'\n",
    "]"
   ]
  },
  {
   "cell_type": "code",
   "execution_count": 4,
   "metadata": {},
   "outputs": [
    {
     "name": "stdout",
     "output_type": "stream",
     "text": [
      "F:\\Maarten\\20170404_2P-PAGFP_RGECO_1-10_20170404_160440\\\n"
     ]
    }
   ],
   "source": [
    "for y in range(0, len(Dirs)):\n",
    "        rawDir= Dirs[y]\n",
    "        print (Dirs[y])\n",
    "        base_dirs = list()\n",
    "        for root, dirs, files in walk(rawDir, topdown=False):\n",
    "            for name in dirs:\n",
    "                base_dirs.append(join(root, name))"
   ]
  },
  {
   "cell_type": "code",
   "execution_count": 5,
   "metadata": {
    "collapsed": true
   },
   "outputs": [],
   "source": [
    "for ind, val in enumerate(base_dirs):\n",
    "    base_dirs[ind] += sep"
   ]
  },
  {
   "cell_type": "code",
   "execution_count": 6,
   "metadata": {},
   "outputs": [
    {
     "data": {
      "text/plain": [
       "[]"
      ]
     },
     "execution_count": 6,
     "metadata": {},
     "output_type": "execute_result"
    }
   ],
   "source": [
    "base_dirs"
   ]
  },
  {
   "cell_type": "code",
   "execution_count": 7,
   "metadata": {
    "collapsed": true
   },
   "outputs": [],
   "source": [
    "def convert(v, verbose=False):\n",
    "    from fish.util.fileio import image_conversion\n",
    "    image_conversion(v, dest_fmt = 'h5', wipe=True)\n",
    "    \n",
    "    if verbose:    \n",
    "        print('Processed image number {0}'.format(v))\n",
    "\n",
    "def process_images(base_dir):\n",
    "    from multiprocessing import cpu_count\n",
    "    from multiprocessing.pool import Pool    \n",
    "    from glob import glob\n",
    "    \n",
    "    fnames = glob(base_dir + 'TM*.stack')\n",
    "    if len(fnames) > 0:\n",
    "        num_workers = cpu_count()\n",
    "        p = Pool(num_workers)\n",
    "        p.map(convert, fnames)\n",
    "        p.close()\n",
    "    else:\n",
    "        print('No .stack files found in {0}'.format(base_dir))"
   ]
  },
  {
   "cell_type": "code",
   "execution_count": null,
   "metadata": {},
   "outputs": [
    {
     "name": "stdout",
     "output_type": "stream",
     "text": [
      "Begin compressing images.\n",
      "F:\\Maarten\\20170410\\gostop_closedloop_Fish1-10_20170410_163655\\\n"
     ]
    }
   ],
   "source": [
    "if __name__ == '__main__':    \n",
    "    print('Begin compressing images.')\n",
    "    for base_dir in base_dirs:\n",
    "        print(base_dir)\n",
    "        process_images(base_dir)\n",
    "    \n",
    "    print('Finished compressing images.')                    \n",
    "    "
   ]
  },
  {
   "cell_type": "code",
   "execution_count": null,
   "metadata": {},
   "outputs": [
    {
     "name": "stdout",
     "output_type": "stream",
     "text": [
      "Begin compressing images.\n",
      "F:\\Maarten\\20170404_2P-PAGFP_RGECO_1-10_20170404_160440\\\n"
     ]
    }
   ],
   "source": [
    "if __name__ == '__main__':    \n",
    "    print('Begin compressing images.')\n",
    "    for base_dir in Dirs:\n",
    "        print(base_dir)\n",
    "        process_images(base_dir)\n",
    "    \n",
    "    print('Finished compressing images.') "
   ]
  },
  {
   "cell_type": "code",
   "execution_count": null,
   "metadata": {
    "collapsed": true
   },
   "outputs": [],
   "source": []
  }
 ],
 "metadata": {
  "anaconda-cloud": {},
  "kernelspec": {
   "display_name": "Python [conda root]",
   "language": "python",
   "name": "conda-root-py"
  },
  "language_info": {
   "codemirror_mode": {
    "name": "ipython",
    "version": 3
   },
   "file_extension": ".py",
   "mimetype": "text/x-python",
   "name": "python",
   "nbconvert_exporter": "python",
   "pygments_lexer": "ipython3",
   "version": "3.5.2"
  }
 },
 "nbformat": 4,
 "nbformat_minor": 2
}
