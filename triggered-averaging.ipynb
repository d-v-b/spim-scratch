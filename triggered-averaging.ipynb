{
 "cells": [
  {
   "cell_type": "code",
   "execution_count": null,
   "metadata": {
    "collapsed": true
   },
   "outputs": [],
   "source": [
    "from fish.ephys.ephys import load, chop_trials, estimate_onset\n",
    "from fish.util.fileio import load_image\n",
    "from glob import glob\n",
    "import numpy as np"
   ]
  },
  {
   "cell_type": "code",
   "execution_count": null,
   "metadata": {
    "collapsed": true
   },
   "outputs": [],
   "source": [
    "dirs = {}\n",
    "dirs['ephys'] = 'W:/davis/data/ephys/20170531/5dpf_th1_cochcrxgfap_rgeco_f1_opto_11/5dpf_th1_cochcrxgfap_rgeco_f1_opto_11.10chFlt'\n",
    "dirs['im'] = 'F:/Yu/20170531/fish1/20170531_1_11_th1cochr_gfaprgeco_5dpf_stimMO_20170531_234826/'\n",
    "\n",
    "\n",
    "\n",
    "fnames = glob(dirs['im'] + 'TM*.stack')\n",
    "fnames.sort()\n",
    "\n",
    "ep_dat = load(dirs['ephys'])\n",
    "cam_times = estimate_onset(ep_dat[2], 3.7, 100)[:len(fnames)]"
   ]
  },
  {
   "cell_type": "code",
   "execution_count": null,
   "metadata": {
    "collapsed": true
   },
   "outputs": [],
   "source": [
    "trials = chop_trials(ep_dat[4])\n",
    "# for each trial onset look for the nearest cam time before the onset.\n",
    "# for each offset, look for the nearest cam time after offset\n",
    "def match_cam_time(events, cam, timing):\n",
    "    from numpy import array, where\n",
    "    tmp = []\n",
    "    output = []\n",
    "    for a in events:\n",
    "        lags = array([a-b for b in cam])\n",
    "        before = len(lags[lags > 0]) - 1\n",
    "        after = before + 1\n",
    "        \n",
    "        if (before >= 0) and (after < len(cam)):\n",
    "            if timing == 'pre':                \n",
    "                output.append(before)\n",
    "            if timing == 'post':\n",
    "                output.append(after)    \n",
    "    return array(output)\n",
    "\n",
    "trials_cam = {}\n",
    "\n",
    "for key, val in trials.items():\n",
    "    pre = match_cam_time(val[0], cam_times, timing='pre')\n",
    "    post = match_cam_time(val[1], cam_times, timing='post')\n",
    "    trials_cam[key] = [pre, post]"
   ]
  },
  {
   "cell_type": "code",
   "execution_count": null,
   "metadata": {},
   "outputs": [],
   "source": [
    "trials_cam"
   ]
  },
  {
   "cell_type": "code",
   "execution_count": null,
   "metadata": {
    "collapsed": true
   },
   "outputs": [],
   "source": [
    "def trigger_data(triggers, window, fnames):\n",
    "    from fish.util.fileio import load_image\n",
    "    from numpy import array\n",
    "    ims_trial = []\n",
    "    for trig in triggers:\n",
    "        tr = []\n",
    "        for t_w in window:        \n",
    "            tr.append(load_image(fnames[trig + t_w]))\n",
    "        ims_trial.append(tr)\n",
    "        \n",
    "    return array(ims_trial)"
   ]
  },
  {
   "cell_type": "code",
   "execution_count": null,
   "metadata": {
    "collapsed": true
   },
   "outputs": [],
   "source": [
    "baseline_pre = trigger_data(trials_cam[2.0][0], np.arange(-5, -1), fnames)\n",
    "baseline_post = trigger_data(trials_cam[2.0][-1], np.arange(1, 5), fnames)"
   ]
  },
  {
   "cell_type": "code",
   "execution_count": null,
   "metadata": {
    "collapsed": true
   },
   "outputs": [],
   "source": [
    "import pyqtgraph as pq\n",
    "%gui qt"
   ]
  },
  {
   "cell_type": "code",
   "execution_count": null,
   "metadata": {
    "collapsed": true
   },
   "outputs": [],
   "source": [
    "mean_baseline_change = baseline_post.mean((0,1)) - baseline_pre.mean((0,1))"
   ]
  },
  {
   "cell_type": "code",
   "execution_count": null,
   "metadata": {},
   "outputs": [],
   "source": [
    "pq.image(mean_baseline_change)"
   ]
  },
  {
   "cell_type": "code",
   "execution_count": null,
   "metadata": {
    "collapsed": true
   },
   "outputs": [],
   "source": []
  }
 ],
 "metadata": {
  "kernelspec": {
   "display_name": "Python [conda root]",
   "language": "python",
   "name": "conda-root-py"
  },
  "language_info": {
   "codemirror_mode": {
    "name": "ipython",
    "version": 3
   },
   "file_extension": ".py",
   "mimetype": "text/x-python",
   "name": "python",
   "nbconvert_exporter": "python",
   "pygments_lexer": "ipython3",
   "version": "3.5.2"
  }
 },
 "nbformat": 4,
 "nbformat_minor": 2
}
