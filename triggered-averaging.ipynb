{
 "cells": [
  {
   "cell_type": "code",
   "execution_count": 2,
   "metadata": {
    "collapsed": true
   },
   "outputs": [],
   "source": [
    "from fish.ephys.ephys import load, chop_trials, estimate_onset\n",
    "from fish.util.fileio import load_image\n",
    "from glob import glob\n",
    "import numpy as np"
   ]
  },
  {
   "cell_type": "code",
   "execution_count": 3,
   "metadata": {},
   "outputs": [],
   "source": [
    "dirs = {}\n",
    "dirs['ephys'] = 'W:/davis/data/ephys/20170613/6dpf_cy171xcy421_f1_opto_4/6dpf_cy171xcy421_f1_opto_4.10chFlt'\n",
    "dirs['im'] = 'W:/davis/data/spim/proc/20170613/6dpf_cy421xcy171_f1_opto_4_20170613_214237/proj/'\n",
    "\n",
    "fnames = glob(dirs['im'] + 't_*')\n",
    "fnames.sort()\n",
    "\n",
    "ep_dat = load(dirs['ephys'])\n",
    "cam_times = estimate_onset(ep_dat[2], 3.7, 100)[:len(fnames)]\n",
    "trials = chop_trials(ep_dat[4])"
   ]
  },
  {
   "cell_type": "code",
   "execution_count": 7,
   "metadata": {
    "collapsed": true
   },
   "outputs": [],
   "source": [
    "# for each trial onset look for the nearest cam time before the onset.\n",
    "# for each offset, look for the nearest cam time after offset\n",
    "def match_cam_time(events, cam, timing):\n",
    "    from numpy import array, where\n",
    "    tmp = []\n",
    "    output = []\n",
    "    for a in events:\n",
    "        lags = array([a-b for b in cam])\n",
    "        before = len(lags[lags > 0]) - 1\n",
    "        after = before + 1\n",
    "        \n",
    "        if (before >= 0) and (after < len(cam)):\n",
    "            if timing == 'pre':                \n",
    "                output.append(before)\n",
    "            if timing == 'post':\n",
    "                output.append(after)    \n",
    "    return array(output)\n",
    "    \n",
    "def trigger_data(triggers, window, fnames, average=False):\n",
    "    from numpy import array\n",
    "    from fish.image.vol import get_stack_dims\n",
    "    from os.path import split, sep\n",
    "    ims_trial = []\n",
    "    \n",
    "    for ind, trig in enumerate(triggers):\n",
    "        \n",
    "        tr = []        \n",
    "        for t_w in window:\n",
    "            tr.append(load_image(fnames[trig + t_w]))\n",
    "        tr = array(tr)\n",
    "        \n",
    "        \n",
    "        if (len(ims_trial) == 0) or not average:\n",
    "            ims_trial.append(tr)\n",
    "        if average:\n",
    "            if ind == 0:\n",
    "                ims_trial[0] = ims_trial[0].astype('float32') / len(triggers) \n",
    "            \n",
    "            ims_trial[0] += tr.astype('float32') / len(triggers)\n",
    "        \n",
    "    if average:         \n",
    "        return ims_trial[0]\n",
    "    else:\n",
    "        return array(ims_trial)\n",
    "    \n",
    "# turn 4D array into 3D\n",
    "def unroll(v):\n",
    "    if v.ndim == 3:\n",
    "        return v.reshape(v.shape[0] * v.shape[1], v.shape[2])\n",
    "    elif v.ndim == 4:        \n",
    "        return v.reshape(v.shape[0], v.shape[1] * v.shape[2], v.shape[3])"
   ]
  },
  {
   "cell_type": "code",
   "execution_count": 8,
   "metadata": {
    "collapsed": true
   },
   "outputs": [],
   "source": [
    "trials_cam = {}\n",
    "\n",
    "for key, val in trials.items():\n",
    "    pre = match_cam_time(val[0], cam_times, timing='pre')\n",
    "    post = match_cam_time(val[1], cam_times, timing='post')\n",
    "    trials_cam[key] = [pre, post]"
   ]
  },
  {
   "cell_type": "code",
   "execution_count": 16,
   "metadata": {},
   "outputs": [],
   "source": [
    "# Get all events\n",
    "window=np.arange(-40, 40)\n",
    "triggered = {}\n",
    "for key, value in trials_cam.items():\n",
    "    if key > 0:\n",
    "        triggered[key] = trigger_data(value[-1], window, fnames, average=True)"
   ]
  },
  {
   "cell_type": "code",
   "execution_count": 20,
   "metadata": {},
   "outputs": [
    {
     "data": {
      "text/plain": [
       "[None, None, None, None, None, None, None]"
      ]
     },
     "execution_count": 20,
     "metadata": {},
     "output_type": "execute_result"
    }
   ],
   "source": [
    "# save triggered volumes\n",
    "out_dir = 'W:/davis/data/spim/proc/20170613/6dpf_cy421xcy171_f1_opto_4_20170613_214237/'\n",
    "from skimage.io import imsave\n",
    "[imsave(out_dir + 'pattern_{0}_triggered_average.tif'.format(int(k - 1)), triggered[k].astype('float32'), compress=1) for k in triggered.keys()]"
   ]
  },
  {
   "cell_type": "code",
   "execution_count": 11,
   "metadata": {
    "collapsed": true
   },
   "outputs": [],
   "source": [
    "import pyqtgraph as pq\n",
    "%gui qt"
   ]
  },
  {
   "cell_type": "code",
   "execution_count": 15,
   "metadata": {},
   "outputs": [
    {
     "data": {
      "text/plain": [
       "[<pyqtgraph.graphicsWindows.ImageWindow at 0xb0820d8>,\n",
       " <pyqtgraph.graphicsWindows.ImageWindow at 0xcaef9d8>,\n",
       " <pyqtgraph.graphicsWindows.ImageWindow at 0xcab2318>,\n",
       " <pyqtgraph.graphicsWindows.ImageWindow at 0xcaf6c18>,\n",
       " <pyqtgraph.graphicsWindows.ImageWindow at 0xc798558>,\n",
       " <pyqtgraph.graphicsWindows.ImageWindow at 0xc7bee58>,\n",
       " <pyqtgraph.graphicsWindows.ImageWindow at 0xc7e4798>]"
      ]
     },
     "execution_count": 15,
     "metadata": {},
     "output_type": "execute_result"
    }
   ],
   "source": [
    "[pq.image(unroll(triggered[k])) for k in triggered.keys()]"
   ]
  },
  {
   "cell_type": "code",
   "execution_count": null,
   "metadata": {
    "collapsed": true
   },
   "outputs": [],
   "source": []
  }
 ],
 "metadata": {
  "anaconda-cloud": {},
  "kernelspec": {
   "display_name": "Python [conda root]",
   "language": "python",
   "name": "conda-root-py"
  },
  "language_info": {
   "codemirror_mode": {
    "name": "ipython",
    "version": 3
   },
   "file_extension": ".py",
   "mimetype": "text/x-python",
   "name": "python",
   "nbconvert_exporter": "python",
   "pygments_lexer": "ipython3",
   "version": "3.6.4"
  }
 },
 "nbformat": 4,
 "nbformat_minor": 2
}
