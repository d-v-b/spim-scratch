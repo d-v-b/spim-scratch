{
 "cells": [
  {
   "cell_type": "markdown",
   "metadata": {},
   "source": [
    "## Load slices of binary data "
   ]
  },
  {
   "cell_type": "code",
   "execution_count": 1,
   "metadata": {},
   "outputs": [
    {
     "name": "stderr",
     "output_type": "stream",
     "text": [
      "C:\\Anaconda3\\lib\\site-packages\\h5py\\__init__.py:36: FutureWarning: Conversion of the second argument of issubdtype from `float` to `np.floating` is deprecated. In future, it will be treated as `np.float64 == np.dtype(float).type`.\n",
      "  from ._conv import register_converters as _register_converters\n"
     ]
    }
   ],
   "source": [
    "import numpy as np\n",
    "from glob import glob\n",
    "import os\n",
    "os.environ['PYQTGRAPH_QT_LIB'] = 'PyQt5'\n",
    "import pyqtgraph as pq\n",
    "from fish.image.vol import get_stack_dims, filter_flat, unfilter_flat\n",
    "from fish.util import fileio as fi"
   ]
  },
  {
   "cell_type": "code",
   "execution_count": 2,
   "metadata": {},
   "outputs": [],
   "source": [
    "# turn 4D array into 3D\n",
    "def unroll(v):\n",
    "    if v.ndim == 3:\n",
    "        return v.reshape(v.shape[0] * v.shape[1], v.shape[2])\n",
    "    elif v.ndim == 4:        \n",
    "        return v.reshape(v.shape[0], v.shape[1] * v.shape[2], v.shape[3])\n",
    "\n",
    "# seed correlation\n",
    "def seed_corr(seed, data):\n",
    "    from numpy import where, correlate, prod, zeros\n",
    "    from scipy.stats import zscore\n",
    " \n",
    "    flat = data.reshape(data.shape[0], prod(data.shape[1:])).T\n",
    "    valid = where(flat.std(1) != 0)[0]\n",
    "    seed = zscore(seed).copy()\n",
    "    normed = zscore(flat[valid, :], axis=1)\n",
    "    \n",
    "    corrs = zeros(flat.shape[0])\n",
    "    \n",
    "    for ind, val in enumerate(valid):\n",
    "        corrs[val] = correlate(seed, normed[ind]) / len(seed)\n",
    "\n",
    "    corrs = corrs.reshape(data.shape[1:])\n",
    "    \n",
    "    return corrs\n",
    "\n",
    "# Need this function to prevent pyqtgraph from leaking memory\n",
    "def wipe_ims(pq):\n",
    "    from numpy import zeros\n",
    "    for iw in pq.images:\n",
    "      iw.setImage(zeros((1,1))) #<- dummy 1x1 image\n",
    "      iw.parent().close()"
   ]
  },
  {
   "cell_type": "code",
   "execution_count": null,
   "metadata": {},
   "outputs": [],
   "source": []
  },
  {
   "cell_type": "code",
   "execution_count": 3,
   "metadata": {},
   "outputs": [
    {
     "name": "stdout",
     "output_type": "stream",
     "text": [
      "[3870   37  672  736]\n",
      "single plane: False\n"
     ]
    }
   ],
   "source": [
    "base_dir = 'F:/En/20180227/fish2-inertiatuning-10sgo-a_20180227_164619/'\n",
    "dims = tuple(get_stack_dims(base_dir)[::-1])\n",
    "fnames = glob(base_dir + 'TM*.stack')\n",
    "fnames.sort()\n",
    "print(np.r_[len(fnames), dims])\n",
    "\n",
    "##################\n",
    "if dims[0]!=50 and dims[0]!=1:\n",
    "    single_plane = False\n",
    "else:\n",
    "    single_plane = True\n",
    "    \n",
    "print(\"single plane: \" + str(single_plane))\n",
    "##################\n",
    "\n",
    "mem = [np.memmap(f, dtype='uint16', shape=dims) for f in fnames]"
   ]
  },
  {
   "cell_type": "code",
   "execution_count": 4,
   "metadata": {},
   "outputs": [],
   "source": [
    "# load some ephys\n",
    "#ep_path = 'W:/YuMu/SPIM/active_datasets/20170727/fish1/fish1/6dpf_gfapiglusnfr_gfap_reachr_opto_3/6dpf_gfapiglusnfr_gfap_reachr_opto_3.10chFlt'\n",
    "ep_path = None\n",
    "if ep_path:\n",
    "    from fish.ephys.ephys import load\n",
    "    ep_dat = load(ep_path)\n",
    "    \n",
    "    from fish.ephys.ephys import estimate_onset, windowed_variance\n",
    "    swims = windowed_variance(ep_dat[0])[0]\n",
    "    cam = estimate_onset(ep_dat[2], 2.8, 10)"
   ]
  },
  {
   "cell_type": "code",
   "execution_count": 5,
   "metadata": {},
   "outputs": [
    {
     "name": "stdout",
     "output_type": "stream",
     "text": [
      "Wall time: 2.12 s\n"
     ]
    }
   ],
   "source": [
    "%%time\n",
    "#wipe_ims(pq)\n",
    "plr = slice(0, None, 10)\n",
    "ds_xy =1\n",
    "z = 5\n",
    "if single_plane:\n",
    "    plr_true = np.arange(plr.start, plr.stop * dims[0])\n",
    "dat = np.array([m[z,::ds_xy,::ds_xy] for m in mem[plr]])"
   ]
  },
  {
   "cell_type": "code",
   "execution_count": 6,
   "metadata": {},
   "outputs": [
    {
     "data": {
      "text/plain": [
       "(1067, 780, 1152)"
      ]
     },
     "execution_count": 6,
     "metadata": {},
     "output_type": "execute_result"
    }
   ],
   "source": [
    "dat.shape"
   ]
  },
  {
   "cell_type": "code",
   "execution_count": 7,
   "metadata": {},
   "outputs": [
    {
     "data": {
      "text/plain": [
       "<pyqtgraph.graphicsWindows.ImageWindow at 0x8855f78>"
      ]
     },
     "execution_count": 7,
     "metadata": {},
     "output_type": "execute_result"
    }
   ],
   "source": [
    "pq.image(dat)"
   ]
  },
  {
   "cell_type": "code",
   "execution_count": null,
   "metadata": {},
   "outputs": [],
   "source": [
    "import pyqtgraph as pq"
   ]
  },
  {
   "cell_type": "code",
   "execution_count": 8,
   "metadata": {},
   "outputs": [
    {
     "name": "stderr",
     "output_type": "stream",
     "text": [
      "C:\\Anaconda3\\lib\\site-packages\\skimage\\io\\_io.py:132: UserWarning: C:/Users/AhrensLab/Desktop/test.tif is a low contrast image\n",
      "  warn('%s is a low contrast image' % fname)\n"
     ]
    }
   ],
   "source": [
    "from skimage.io import imsave\n",
    "imsave('C:/Users/AhrensLab/Desktop/test.tif', dat, imagej=True)"
   ]
  },
  {
   "cell_type": "code",
   "execution_count": null,
   "metadata": {},
   "outputs": [],
   "source": [
    "if single_plane:\n",
    "    if dat.ndim > 3:\n",
    "        dat = dat.reshape(dat.shape[0] * dat.shape[1], dat.shape[2], dat.shape[3])\n",
    "\n",
    "if dat.ndim > 3:\n",
    "    im = pq.image(unroll(dat))\n",
    "else:\n",
    "    im = pq.image(dat)"
   ]
  },
  {
   "cell_type": "code",
   "execution_count": null,
   "metadata": {},
   "outputs": [],
   "source": [
    "dat.shape"
   ]
  },
  {
   "cell_type": "code",
   "execution_count": null,
   "metadata": {},
   "outputs": [],
   "source": [
    "rois = {}"
   ]
  },
  {
   "cell_type": "code",
   "execution_count": null,
   "metadata": {},
   "outputs": [],
   "source": [
    "rois['waist'] = im.roi.getArrayRegion(dat, im.imageItem, axes=(1,2)).mean((1,2))"
   ]
  },
  {
   "cell_type": "code",
   "execution_count": null,
   "metadata": {},
   "outputs": [],
   "source": [
    "im.imageItem()"
   ]
  },
  {
   "cell_type": "code",
   "execution_count": null,
   "metadata": {},
   "outputs": [],
   "source": [
    "from scipy.stats import zscore\n",
    "pl = pq.plot(cam[plr_true], zscore(rois['waist']), pen='r')\n",
    "x_axis_ep  = range(cam[plr_true[0]], cam[plr_true[-1]])\n",
    "pl.plot(x_axis_ep, zscore(swims[x_axis_ep]))"
   ]
  },
  {
   "cell_type": "code",
   "execution_count": null,
   "metadata": {},
   "outputs": [],
   "source": [
    "%matplotlib qt\n",
    "import matplotlib.pyplot as plt\n",
    "plt.plot(ep_dat[0])\n",
    "plt.axvline(cam[0])\n",
    "plt.axvline(cam[-1])\n",
    "plt.show()"
   ]
  },
  {
   "cell_type": "code",
   "execution_count": null,
   "metadata": {},
   "outputs": [],
   "source": [
    "\n",
    "pl = pq.plot(cam, 5 + zscore(rois['motor']), color='m')\n",
    "pl.plot(zscore(epdat[0]), color='y')"
   ]
  },
  {
   "cell_type": "code",
   "execution_count": null,
   "metadata": {},
   "outputs": [],
   "source": [
    "# load ephys\n",
    "from fish.ephys.ephys import load, windowed_variance\n",
    "ep_fname = 'W:/davis/data/ephys/20170502/6dpf_cy302xcy171_f2_omr_2.10chFlt'\n",
    "epdat = load(ep_fname)"
   ]
  },
  {
   "cell_type": "code",
   "execution_count": null,
   "metadata": {},
   "outputs": [],
   "source": [
    "from fish.ephys.ephys import estimate_onset"
   ]
  },
  {
   "cell_type": "code",
   "execution_count": null,
   "metadata": {},
   "outputs": [],
   "source": [
    "cam = estimate_onset(epdat[2], 3.7, 100)[:len(fnames)]"
   ]
  },
  {
   "cell_type": "code",
   "execution_count": null,
   "metadata": {},
   "outputs": [],
   "source": [
    "smth = [windowed_variance(v)[0] for v in epdat[0:2]]"
   ]
  },
  {
   "cell_type": "code",
   "execution_count": null,
   "metadata": {},
   "outputs": [],
   "source": [
    "import matplotlib.pyplot as plt\n",
    "%matplotlib\n",
    "plt.plot(smth[1])\n",
    "plt.show()"
   ]
  },
  {
   "cell_type": "code",
   "execution_count": null,
   "metadata": {},
   "outputs": [],
   "source": [
    "pq.plot(epdat[1][cam[0]:cam[-1]][::10])"
   ]
  },
  {
   "cell_type": "code",
   "execution_count": null,
   "metadata": {},
   "outputs": [],
   "source": []
  }
 ],
 "metadata": {
  "anaconda-cloud": {},
  "kernelspec": {
   "display_name": "Python [conda root]",
   "language": "python",
   "name": "conda-root-py"
  },
  "language_info": {
   "codemirror_mode": {
    "name": "ipython",
    "version": 3
   },
   "file_extension": ".py",
   "mimetype": "text/x-python",
   "name": "python",
   "nbconvert_exporter": "python",
   "pygments_lexer": "ipython3",
   "version": "3.6.4"
  }
 },
 "nbformat": 4,
 "nbformat_minor": 2
}
