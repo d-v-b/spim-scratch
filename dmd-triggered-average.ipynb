{
 "cells": [
  {
   "cell_type": "code",
   "execution_count": 1,
   "metadata": {
    "collapsed": true
   },
   "outputs": [],
   "source": [
    "import numpy as np\n",
    "import matplotlib.pyplot as plt\n",
    "from glob import glob\n",
    "%matplotlib inline\n",
    "from fish.ephys.ephys import load, estimate_onset, chop_trials"
   ]
  },
  {
   "cell_type": "code",
   "execution_count": 2,
   "metadata": {
    "collapsed": true
   },
   "outputs": [],
   "source": [
    "def trigger_data(triggers, window, fnames, average=False):\n",
    "    from numpy import array\n",
    "    from fish.image.vol import get_stack_dims\n",
    "    from os.path import split, sep\n",
    "    dims = get_stack_dims(split(fnames[0])[0] + sep)[::-1]\n",
    "    ims_trial = []\n",
    "    \n",
    "    for ind, trig in enumerate(triggers):\n",
    "        \n",
    "        tr = []        \n",
    "        for t_w in window:\n",
    "            tr.append(load_single_plane(fnames, trig + t_w, tuple(dims)))\n",
    "        tr = array(tr)\n",
    "        \n",
    "        \n",
    "        if (len(ims_trial) == 0) or not average:\n",
    "            ims_trial.append(tr)\n",
    "        if average:\n",
    "            if ind == 0:\n",
    "                ims_trial[0] = ims_trial[0].astype('float32') / len(triggers) \n",
    "            \n",
    "            ims_trial[0] += tr.astype('float32') / len(triggers)\n",
    "        \n",
    "    if average:         \n",
    "        return ims_trial[0]\n",
    "    else:\n",
    "        return array(ims_trial)\n",
    "    \n",
    "def match_cam_time(events, cam, timing):\n",
    "    from numpy import array, where\n",
    "    tmp = []\n",
    "    output = []\n",
    "    for a in events:\n",
    "        lags = array([a-b for b in cam])\n",
    "        before = len(lags[lags > 0]) - 1\n",
    "        after = before + 1\n",
    "        \n",
    "        if (before >= 0) and (after < len(cam)):\n",
    "            if timing == 'pre':                \n",
    "                output.append(before)\n",
    "            if timing == 'post':\n",
    "                output.append(after)    \n",
    "    return array(output)\n",
    "\n",
    "def load_single_plane(fnames, t, dims):\n",
    "    from numpy import memmap, array    \n",
    "    fn = fnames[t // dims[0]]\n",
    "    mem = memmap(fn, shape=dims, dtype='uint16')\n",
    "    return array(mem[t % dims[0]])"
   ]
  },
  {
   "cell_type": "code",
   "execution_count": 23,
   "metadata": {},
   "outputs": [
    {
     "name": "stdout",
     "output_type": "stream",
     "text": [
      "2862\n"
     ]
    }
   ],
   "source": [
    "dirs = {}\n",
    "dirs['ephys'] = 'W:/YuMu/SPIM/active_datasets/20170727/fish1/fish1/6dpf_gfapiglusnfr_gfap_reachr_opto_4/6dpf_gfapiglusnfr_gfap_reachr_opto_4.10chFlt'\n",
    "dirs['ims'] = 'F:/Yu/20170727/fish1/20170727_1_4_gfapiglusfnr_gfapreachr_6dpf_single_fourROI_5on_10off_100laser594_20170727_143538//'\n",
    "from fish.image.vol import get_stack_dims\n",
    "\n",
    "dims = get_stack_dims(dirs['ims'])[::-1]\n",
    "fnames = glob(dirs['ims'] + 'TM*')\n",
    "print(len(fnames))"
   ]
  },
  {
   "cell_type": "code",
   "execution_count": 24,
   "metadata": {},
   "outputs": [
    {
     "name": "stdout",
     "output_type": "stream",
     "text": [
      "143060\n"
     ]
    }
   ],
   "source": [
    "ep_dat = load(dirs['ephys'])\n",
    "cam_times = np.unique(estimate_onset(ep_dat[2], threshold=3, duration=50))\n",
    "laser_on = estimate_onset(ep_dat[3], threshold=3.7, duration=400)\n",
    "laser_off = len(ep_dat[3]) - estimate_onset(ep_dat[3][::-1], threshold=3.7, duration=400)\n",
    "print(len(cam_times))"
   ]
  },
  {
   "cell_type": "code",
   "execution_count": 25,
   "metadata": {
    "collapsed": true
   },
   "outputs": [],
   "source": [
    "trials = chop_trials(ep_dat[4])\n",
    "# for each trial onset look for the nearest cam time before the onset.\n",
    "# for each offset, look for the nearest cam time after offset\n",
    "trials_cam = {}\n",
    "\n",
    "for key, val in trials.items():\n",
    "    pre = match_cam_time(val[0], cam_times, timing='pre')\n",
    "    post = match_cam_time(val[1], cam_times, timing='post')\n",
    "    trials_cam[key] = [pre, post]"
   ]
  },
  {
   "cell_type": "code",
   "execution_count": 26,
   "metadata": {},
   "outputs": [
    {
     "name": "stdout",
     "output_type": "stream",
     "text": [
      "1.0\n",
      "[array([   280,   8691,  11096,  14701,  19509,  26720,  29123,  33930,\n",
      "        41139,  44747,  48352,  55562,  59169,  62774,  71187,  74792,\n",
      "        80801,  82003,  90416,  92819, 100030, 102433, 109644, 110846,\n",
      "       115653, 122863, 125268, 130074, 137286, 142093]), array([   481,   8894,  11298,  14905,  19709,  26922,  29324,  34134,\n",
      "        41341,  44948,  48556,  55766,  59370,  62975,  71388,  74993,\n",
      "        81002,  82204,  90616,  93020, 100233, 102635, 109845, 111047,\n",
      "       115855, 123065, 125469, 130276, 137487, 142294])]\n",
      "2.0\n",
      "[array([  1481,   5087,  12298,  18307,  20710,  27922,  31527,  37536,\n",
      "        38738,  47150,  49554,  56765,  60370,  65178,  68783,  72388,\n",
      "        79599,  83204,  86810,  94021,  97626, 101232, 106039, 113250,\n",
      "       119259, 120460, 128873, 131277, 138488, 139689]), array([  1683,   5288,  12498,  18508,  20912,  28122,  31728,  37739,\n",
      "        38941,  47352,  49755,  56966,  60573,  65379,  68982,  72589,\n",
      "        79800,  83405,  87014,  94222,  97828, 101435, 106241, 113450,\n",
      "       119460, 120663, 129076, 131478, 138690, 139890])]\n",
      "3.0\n",
      "[array([  3885,   6289,   9894,  17105,  21913,  25518,  30325,  36334,\n",
      "        39939,  43545,  50756,  54361,  57966,  66379,  69985,  75994,\n",
      "        78397,  85608,  88012,  95221,  98828, 104837, 107241, 114452,\n",
      "       118057, 121663, 126469, 132478, 136084, 140890]), array([  4086,   6491,  10095,  17308,  22114,  25722,  30529,  36538,\n",
      "        40141,  43748,  50957,  54562,  58167,  66582,  70186,  76195,\n",
      "        78599,  85809,  88213,  95424,  99030, 105038, 107444, 114655,\n",
      "       118258, 121864, 126672, 132681, 136285, 141093])]\n",
      "4.0\n",
      "[array([  2683,   7490,  13500,  15903,  23114,  24316,  32729,  35132,\n",
      "        42343,  45949,  51957,  53159,  61572,  63976,  67581,  73590,\n",
      "        77196,  84406,  89213,  91617,  96424, 103635, 108442, 112048,\n",
      "       116855, 124066, 127671, 133681, 134882]), array([  2884,   7692,  13702,  16104,  23316,  24517,  32932,  35335,\n",
      "        42547,  46150,  52158,  53361,  61773,  64179,  67785,  73792,\n",
      "        77396,  84608,  89415,  91818,  96626, 103838, 108645, 112249,\n",
      "       117060, 124267, 127872, 133884, 135084])]\n"
     ]
    }
   ],
   "source": [
    "# Get all events\n",
    "window=np.arange(-300, 150)\n",
    "triggered = {}\n",
    "for key, value in trials_cam.items():\n",
    "    if key > 0:\n",
    "        print(key)\n",
    "        print(value)\n",
    "        triggered[key] = trigger_data(value[-1], window, fnames, average=True)"
   ]
  },
  {
   "cell_type": "code",
   "execution_count": 18,
   "metadata": {
    "collapsed": true
   },
   "outputs": [],
   "source": [
    "import pyqtgraph as pq\n",
    "%gui qt"
   ]
  },
  {
   "cell_type": "code",
   "execution_count": 28,
   "metadata": {},
   "outputs": [
    {
     "data": {
      "text/plain": [
       "<pyqtgraph.graphicsWindows.ImageWindow at 0xc5f2708>"
      ]
     },
     "execution_count": 28,
     "metadata": {},
     "output_type": "execute_result"
    }
   ],
   "source": [
    "pq.image(triggered[1.0] - triggered[4.0])"
   ]
  },
  {
   "cell_type": "code",
   "execution_count": null,
   "metadata": {
    "collapsed": true
   },
   "outputs": [],
   "source": []
  }
 ],
 "metadata": {
  "anaconda-cloud": {},
  "kernelspec": {
   "display_name": "Python [conda root]",
   "language": "python",
   "name": "conda-root-py"
  },
  "language_info": {
   "codemirror_mode": {
    "name": "ipython",
    "version": 3
   },
   "file_extension": ".py",
   "mimetype": "text/x-python",
   "name": "python",
   "nbconvert_exporter": "python",
   "pygments_lexer": "ipython3",
   "version": "3.5.2"
  }
 },
 "nbformat": 4,
 "nbformat_minor": 2
}
