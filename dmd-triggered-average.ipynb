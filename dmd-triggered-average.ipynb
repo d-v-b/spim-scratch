{
 "cells": [
  {
   "cell_type": "code",
   "execution_count": 1,
   "metadata": {
    "collapsed": true
   },
   "outputs": [],
   "source": [
    "import numpy as np\n",
    "import matplotlib.pyplot as plt\n",
    "from glob import glob\n",
    "%matplotlib inline\n",
    "from fish.ephys.ephys import load, estimate_onset, chop_trials\n",
    "from triggered_average import trigger_data, match_cam_time, load_single_plane\n",
    "from fish.image.vol import get_stack_dims\n",
    "from fish.util.fileio import load_image"
   ]
  },
  {
   "cell_type": "code",
   "execution_count": 2,
   "metadata": {},
   "outputs": [
    {
     "name": "stdout",
     "output_type": "stream",
     "text": [
      "3890\n",
      "3890\n"
     ]
    }
   ],
   "source": [
    "dirs = {}\n",
    "dirs['ephys'] = r'R:/davis/data/ephys/20171108/7dpf_cy171xec43_f1_opto_2_12mw.10chFlt'\n",
    "dirs['ims'] = r'F:/davis/20171108/7dpf_cy171xec43_f1_opto_2_12mw_20171108_215904/'\n",
    "\n",
    "dims = get_stack_dims(dirs['ims'])[::-1]\n",
    "single_plane = False\n",
    "if dims[0] == 50:\n",
    "    single_plane = True\n",
    "\n",
    "fnames = sorted(glob(dirs['ims'] + 'TM*'))\n",
    "# Number of timepoints per file is 50 for high speed single plane\n",
    "num_frames = len(fnames)\n",
    "if single_plane:\n",
    "    num_frames = len(fnames) * 50\n",
    "print(len(fnames))\n",
    "print(num_frames)"
   ]
  },
  {
   "cell_type": "code",
   "execution_count": 3,
   "metadata": {},
   "outputs": [
    {
     "name": "stdout",
     "output_type": "stream",
     "text": [
      "3890\n"
     ]
    }
   ],
   "source": [
    "ep_dat = load(dirs['ephys'])\n",
    "cam_times = estimate_onset(ep_dat[2], threshold=3, duration=50)[:num_frames]\n",
    "laser_on = estimate_onset(ep_dat[3], threshold=3.7, duration=400)\n",
    "laser_off = len(ep_dat[3]) - estimate_onset(ep_dat[3][::-1], threshold=3.7, duration=400)\n",
    "print(len(cam_times))"
   ]
  },
  {
   "cell_type": "code",
   "execution_count": 4,
   "metadata": {
    "collapsed": true
   },
   "outputs": [],
   "source": [
    "trials = chop_trials(ep_dat[4])\n",
    "# for each trial onset look for the nearest cam time before the onset.\n",
    "# for each offset, look for the nearest cam time after offset\n",
    "trials_cam = {}\n",
    "\n",
    "for key, val in trials.items():\n",
    "    pre = match_cam_time(val[0], cam_times, timing='pre')\n",
    "    post = match_cam_time(val[1], cam_times, timing='post')\n",
    "    trials_cam[key] = [pre, post]"
   ]
  },
  {
   "cell_type": "code",
   "execution_count": 7,
   "metadata": {},
   "outputs": [
    {
     "name": "stdout",
     "output_type": "stream",
     "text": [
      "1.0\n",
      "[32, 275, 373, 567, 616, 810, 907, 1053, 1248, 1393, 1491, 1685, 1831, 1928, 2171, 2269, 2463, 2512, 2755, 2852, 3046, 3095, 3338, 3387, 3630, 3727]\n",
      "2.0\n",
      "[81, 178, 324, 518, 664, 859, 956, 1151, 1199, 1442, 1539, 1734, 1782, 2026, 2123, 2317, 2414, 2609, 2658, 2901, 2998, 3144, 3241, 3435, 3581, 3678, 3824]\n",
      "3.0\n",
      "[130, 227, 421, 470, 713, 761, 1005, 1102, 1296, 1345, 1588, 1637, 1880, 1977, 2074, 2220, 2366, 2560, 2706, 2803, 2949, 3192, 3290, 3484, 3533, 3776, 3873]\n"
     ]
    }
   ],
   "source": [
    "# Get all events\n",
    "window=np.arange(-5, 10)\n",
    "triggered = {}\n",
    "for key, value in trials_cam.items():\n",
    "    if key > 0:\n",
    "        print(key)\n",
    "        \n",
    "        # don't trigger on values where we can't get a full window\n",
    "        trigs = list(filter(lambda v: v + window[-1] < num_frames, value[-1]))\n",
    "        print(trigs)\n",
    "        triggered[key] = trigger_data(trigs[::5], window, fnames, average=True, z=None)"
   ]
  },
  {
   "cell_type": "code",
   "execution_count": 10,
   "metadata": {},
   "outputs": [
    {
     "ename": "ImportError",
     "evalue": "cannot import name 'QtGui'",
     "output_type": "error",
     "traceback": [
      "\u001b[1;31m---------------------------------------------------------------------------\u001b[0m",
      "\u001b[1;31mImportError\u001b[0m                               Traceback (most recent call last)",
      "\u001b[1;32m<ipython-input-10-95bdd5d6997c>\u001b[0m in \u001b[0;36m<module>\u001b[1;34m()\u001b[0m\n\u001b[1;32m----> 1\u001b[1;33m \u001b[1;32mimport\u001b[0m \u001b[0mpyqtgraph\u001b[0m \u001b[1;32mas\u001b[0m \u001b[0mpq\u001b[0m\u001b[1;33m\u001b[0m\u001b[0m\n\u001b[0m\u001b[0;32m      2\u001b[0m \u001b[1;33m\u001b[0m\u001b[0m\n\u001b[0;32m      3\u001b[0m \u001b[0mget_ipython\u001b[0m\u001b[1;33m(\u001b[0m\u001b[1;33m)\u001b[0m\u001b[1;33m.\u001b[0m\u001b[0mmagic\u001b[0m\u001b[1;33m(\u001b[0m\u001b[1;34m'gui qt'\u001b[0m\u001b[1;33m)\u001b[0m\u001b[1;33m\u001b[0m\u001b[0m\n",
      "\u001b[1;32mC:\\Anaconda3\\lib\\site-packages\\pyqtgraph\\__init__.py\u001b[0m in \u001b[0;36m<module>\u001b[1;34m()\u001b[0m\n\u001b[0;32m     11\u001b[0m \u001b[1;31m## 'Qt' is a local module; it is intended mainly to cover up the differences\u001b[0m\u001b[1;33m\u001b[0m\u001b[1;33m\u001b[0m\u001b[0m\n\u001b[0;32m     12\u001b[0m \u001b[1;31m## between PyQt4 and PySide.\u001b[0m\u001b[1;33m\u001b[0m\u001b[1;33m\u001b[0m\u001b[0m\n\u001b[1;32m---> 13\u001b[1;33m \u001b[1;32mfrom\u001b[0m \u001b[1;33m.\u001b[0m\u001b[0mQt\u001b[0m \u001b[1;32mimport\u001b[0m \u001b[0mQtGui\u001b[0m\u001b[1;33m\u001b[0m\u001b[0m\n\u001b[0m\u001b[0;32m     14\u001b[0m \u001b[1;33m\u001b[0m\u001b[0m\n\u001b[0;32m     15\u001b[0m \u001b[1;31m## not really safe--If we accidentally create another QApplication, the process hangs (and it is very difficult to trace the cause)\u001b[0m\u001b[1;33m\u001b[0m\u001b[1;33m\u001b[0m\u001b[0m\n",
      "\u001b[1;32mC:\\Anaconda3\\lib\\site-packages\\pyqtgraph\\Qt.py\u001b[0m in \u001b[0;36m<module>\u001b[1;34m()\u001b[0m\n\u001b[0;32m    131\u001b[0m \u001b[1;32melif\u001b[0m \u001b[0mQT_LIB\u001b[0m \u001b[1;33m==\u001b[0m \u001b[0mPYQT4\u001b[0m\u001b[1;33m:\u001b[0m\u001b[1;33m\u001b[0m\u001b[0m\n\u001b[0;32m    132\u001b[0m \u001b[1;33m\u001b[0m\u001b[0m\n\u001b[1;32m--> 133\u001b[1;33m     \u001b[1;32mfrom\u001b[0m \u001b[0mPyQt4\u001b[0m \u001b[1;32mimport\u001b[0m \u001b[0mQtGui\u001b[0m\u001b[1;33m,\u001b[0m \u001b[0mQtCore\u001b[0m\u001b[1;33m,\u001b[0m \u001b[0muic\u001b[0m\u001b[1;33m\u001b[0m\u001b[0m\n\u001b[0m\u001b[0;32m    134\u001b[0m     \u001b[1;32mtry\u001b[0m\u001b[1;33m:\u001b[0m\u001b[1;33m\u001b[0m\u001b[0m\n\u001b[0;32m    135\u001b[0m         \u001b[1;32mfrom\u001b[0m \u001b[0mPyQt4\u001b[0m \u001b[1;32mimport\u001b[0m \u001b[0mQtSvg\u001b[0m\u001b[1;33m\u001b[0m\u001b[0m\n",
      "\u001b[1;31mImportError\u001b[0m: cannot import name 'QtGui'"
     ]
    }
   ],
   "source": [
    "import pyqtgraph as pq\n",
    "\n",
    "%gui qt"
   ]
  },
  {
   "cell_type": "code",
   "execution_count": 9,
   "metadata": {},
   "outputs": [
    {
     "data": {
      "text/plain": [
       "(15, 45, 1024, 2048)"
      ]
     },
     "execution_count": 9,
     "metadata": {},
     "output_type": "execute_result"
    }
   ],
   "source": [
    "triggered[1.0].shape"
   ]
  },
  {
   "cell_type": "code",
   "execution_count": null,
   "metadata": {
    "collapsed": true
   },
   "outputs": [],
   "source": [
    "plt.imshow(triggered[1.0].max((0,1)))"
   ]
  },
  {
   "cell_type": "code",
   "execution_count": null,
   "metadata": {},
   "outputs": [],
   "source": [
    "z = 30\n",
    "pq.image(triggered[1.0][:,z], title='roi 1.0')\n",
    "pq.image(triggered[2.0][:,z], title='roi 2.0')\n",
    "pq.image(triggered[3.0][:,z], title='roi 3.0')"
   ]
  },
  {
   "cell_type": "code",
   "execution_count": null,
   "metadata": {},
   "outputs": [],
   "source": [
    "pq.image(triggered[1.0].max((0)))"
   ]
  },
  {
   "cell_type": "code",
   "execution_count": null,
   "metadata": {
    "collapsed": true
   },
   "outputs": [],
   "source": [
    "pq.image(triggered[1.0][:,-15])"
   ]
  }
 ],
 "metadata": {
  "anaconda-cloud": {},
  "kernelspec": {
   "display_name": "Python [conda root]",
   "language": "python",
   "name": "conda-root-py"
  },
  "language_info": {
   "codemirror_mode": {
    "name": "ipython",
    "version": 3
   },
   "file_extension": ".py",
   "mimetype": "text/x-python",
   "name": "python",
   "nbconvert_exporter": "python",
   "pygments_lexer": "ipython3",
   "version": "3.5.3"
  }
 },
 "nbformat": 4,
 "nbformat_minor": 2
}
