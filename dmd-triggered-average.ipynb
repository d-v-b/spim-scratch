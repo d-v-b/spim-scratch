{
 "cells": [
  {
   "cell_type": "code",
   "execution_count": 2,
   "metadata": {
    "collapsed": true
   },
   "outputs": [],
   "source": [
    "import numpy as np\n",
    "import matplotlib.pyplot as plt\n",
    "from glob import glob\n",
    "%matplotlib inline\n",
    "from fish.ephys.ephys import load, estimate_onset, chop_trials"
   ]
  },
  {
   "cell_type": "code",
   "execution_count": 4,
   "metadata": {
    "collapsed": true
   },
   "outputs": [],
   "source": [
    "from triggered_average import trigger_data, match_cam_time, load_single_plane"
   ]
  },
  {
   "cell_type": "code",
   "execution_count": 5,
   "metadata": {
    "collapsed": true
   },
   "outputs": [],
   "source": [
    "from fish.util.fileio import load_image"
   ]
  },
  {
   "cell_type": "code",
   "execution_count": null,
   "metadata": {},
   "outputs": [],
   "source": [
    "dirs = {}\n",
    "dirs['ephys'] = r'R:/davis/data/ephys/20171004/7dpf_cy171xec43_f1_omr_opto_1.10chFlt'\n",
    "dirs['ims'] = r'F:/davis/20171004/7dpf_cy171xec43_f1_omr_opto_1_20171004_113405/'\n",
    "from fish.image.vol import get_stack_dims\n",
    "\n",
    "dims = get_stack_dims(dirs['ims'])[::-1]\n",
    "single_plane = False\n",
    "if dims[0] == 50:\n",
    "    single_plane = True\n",
    "\n",
    "fnames = sorted(glob(dirs['ims'] + 'TM*'))\n",
    "# Number of timepoints per file is 50 for high speed single plane\n",
    "num_frames = len(fnames)\n",
    "if single_plane:\n",
    "    num_frames = len(fnames) * 50\n",
    "print(len(fnames))\n",
    "print(num_frames)"
   ]
  },
  {
   "cell_type": "code",
   "execution_count": null,
   "metadata": {},
   "outputs": [],
   "source": [
    "ep_dat = load(dirs['ephys'])\n",
    "cam_times = estimate_onset(ep_dat[2], threshold=3, duration=50)[:num_frames]\n",
    "laser_on = estimate_onset(ep_dat[3], threshold=3.7, duration=400)\n",
    "laser_off = len(ep_dat[3]) - estimate_onset(ep_dat[3][::-1], threshold=3.7, duration=400)\n",
    "print(len(cam_times))"
   ]
  },
  {
   "cell_type": "code",
   "execution_count": null,
   "metadata": {
    "collapsed": true
   },
   "outputs": [],
   "source": [
    "trials = chop_trials(ep_dat[4])\n",
    "# for each trial onset look for the nearest cam time before the onset.\n",
    "# for each offset, look for the nearest cam time after offset\n",
    "trials_cam = {}\n",
    "\n",
    "for key, val in trials.items():\n",
    "    pre = match_cam_time(val[0], cam_times, timing='pre')\n",
    "    post = match_cam_time(val[1], cam_times, timing='post')\n",
    "    trials_cam[key] = [pre, post]"
   ]
  },
  {
   "cell_type": "code",
   "execution_count": null,
   "metadata": {
    "collapsed": true
   },
   "outputs": [],
   "source": [
    "#todo: use multiprocessing"
   ]
  },
  {
   "cell_type": "code",
   "execution_count": null,
   "metadata": {},
   "outputs": [],
   "source": [
    "# Get all events\n",
    "window=np.arange(-50, 110)\n",
    "triggered = {}\n",
    "for key, value in trials_cam.items():\n",
    "    if key > 0:\n",
    "        print(key)\n",
    "        \n",
    "        # don't trigger on values where we can't get a full window\n",
    "        trigs = list(filter(lambda v: v + window[-1] < num_frames, value[-1]))\n",
    "        print(trigs)\n",
    "        triggered[key] = trigger_data(trigs, window, fnames, average=True, z=None)"
   ]
  },
  {
   "cell_type": "code",
   "execution_count": null,
   "metadata": {
    "collapsed": true
   },
   "outputs": [],
   "source": [
    "import pyqtgraph as pq\n",
    "%gui qt"
   ]
  },
  {
   "cell_type": "code",
   "execution_count": null,
   "metadata": {},
   "outputs": [],
   "source": [
    "pq.image(triggered[1.0], title='roi 1.0')\n",
    "pq.image(triggered[2.0], title='roi 2.0')\n",
    "pq.image(triggered[3.0], title='roi 3.0')"
   ]
  },
  {
   "cell_type": "code",
   "execution_count": null,
   "metadata": {},
   "outputs": [],
   "source": [
    "pq.image(triggered[1.0][:,-15])"
   ]
  },
  {
   "cell_type": "code",
   "execution_count": null,
   "metadata": {
    "collapsed": true
   },
   "outputs": [],
   "source": []
  }
 ],
 "metadata": {
  "anaconda-cloud": {},
  "kernelspec": {
   "display_name": "Python [conda root]",
   "language": "python",
   "name": "conda-root-py"
  },
  "language_info": {
   "codemirror_mode": {
    "name": "ipython",
    "version": 3
   },
   "file_extension": ".py",
   "mimetype": "text/x-python",
   "name": "python",
   "nbconvert_exporter": "python",
   "pygments_lexer": "ipython3",
   "version": "3.5.2"
  }
 },
 "nbformat": 4,
 "nbformat_minor": 2
}
