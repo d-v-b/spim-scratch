{
 "cells": [
  {
   "cell_type": "code",
   "execution_count": 2,
   "metadata": {
    "collapsed": true
   },
   "outputs": [],
   "source": [
    "import sys\n",
    "import numpy as np \n",
    "import matplotlib.pyplot as plt\n",
    "%matplotlib inline\n",
    "\n",
    "sys.path.append('/groups/ahrens/home/zwartm/code')\n",
    "sc.addPyFile('/groups/ahrens/home/zwartm/code/fileTools.py')\n",
    "sc.addPyFile('/groups/ahrens/home/zwartm/code/volTools.py')\n",
    "sc.addPyFile('/groups/ahrens/home/zwartm/code/tifffile.py')\n",
    "sc.addPyFile('/groups/ahrens/home/zwartm/code/compress.py')\n",
    "sc.addPyFile('/groups/ahrens/home/zwartm/code/conversion.py')\n",
    "import thunder as td\n",
    "from registration import CrossCorr\n",
    "from regression import LinearRegression, FastLinearRegression\n",
    "from skimage.io import imread, imsave\n",
    "\n",
    "import conv as conv\n",
    "import volTools as volt\n",
    "from volTools import proj_plot\n",
    "import ablationTools as abla\n",
    "import compress as compress\n",
    "from skimage.external import tifffile\n",
    "from fileTools import stack_to_tif, im_loader, insort, coordinates,coordinates3D \n",
    "from dff import dff\n",
    "\n",
    "import time\n",
    "import glob, os\n",
    "from os.path import split, sep\n",
    "from showit import image\n",
    "import scipy.stats as stats\n",
    "from scipy.signal import savgol_filter as savgol"
   ]
  },
  {
   "cell_type": "code",
   "execution_count": 3,
   "metadata": {
    "collapsed": true
   },
   "outputs": [],
   "source": [
    "currExp = '/groups/ahrens/ahrenslab/Maarten/Data/Lightsheet/20171006/Fish4_electrop_exp_20171006_141707/'"
   ]
  },
  {
   "cell_type": "markdown",
   "metadata": {},
   "source": [
    "### Convert and load data"
   ]
  },
  {
   "cell_type": "code",
   "execution_count": null,
   "metadata": {
    "collapsed": true
   },
   "outputs": [],
   "source": [
    "# compress stack files, generate hdf5 files\n",
    "fileList = glob.glob(currExp + 'TM0*.stack')\n",
    "fileList.sort()\n",
    "sc.parallelize(fileList).foreach(lambda x: conver.image_conversion(x, 'h5', wipe=True)) "
   ]
  },
  {
   "cell_type": "code",
   "execution_count": 8,
   "metadata": {
    "collapsed": true
   },
   "outputs": [],
   "source": [
    "images = glob.glob(currExp + 'TM*.h5')\n",
    "images.sort()"
   ]
  },
  {
   "cell_type": "code",
   "execution_count": 4,
   "metadata": {
    "collapsed": true
   },
   "outputs": [],
   "source": [
    "dims = volt.getStackDims(currExp)\n",
    "dims.reverse() #z,y,x, for Thunder 1.0"
   ]
  },
  {
   "cell_type": "code",
   "execution_count": 10,
   "metadata": {},
   "outputs": [],
   "source": [
    "dat = td.images.fromlist(images, accessor=im_loader, engine=sc, npartitions=min(10000,len(images)))"
   ]
  },
  {
   "cell_type": "markdown",
   "metadata": {},
   "source": [
    "### Perform registration; save and reload as binary"
   ]
  },
  {
   "cell_type": "code",
   "execution_count": 11,
   "metadata": {},
   "outputs": [
    {
     "name": "stdout",
     "output_type": "stream",
     "text": [
      "Taking reference from planes 1658 to 1668\n",
      "Filter size: 3\n"
     ]
    }
   ],
   "source": [
    "numFrames = dat.shape[0]\n",
    "\n",
    "# length of reference, in frames\n",
    "refLength = 10\n",
    "# reference timerange\n",
    "refR = np.array([int(numFrames) - refLength,numFrames])\n",
    "# filter parameters\n",
    "filt = {}\n",
    "filt['filter'] = 'median'\n",
    "filt['footprint'] = 3\n",
    "\n",
    "print('Taking reference from planes ' + str(refR[0]) + ' to ' + str(refR[-1]))\n",
    "print('Filter size: ' + str(filt['footprint']))"
   ]
  },
  {
   "cell_type": "code",
   "execution_count": 12,
   "metadata": {
    "collapsed": true
   },
   "outputs": [],
   "source": [
    "# run registration on cropped data\n",
    "zStart = 0 #starting plane of registration \n",
    "zEnd = 10 #ending plane\n",
    "window = 200 #width and height of the registration ROI\n",
    "datCrop = dat[:numFrames,zStart:zEnd,int(dims[1]/2):int(dims[1]/2) + window, int(dims[2]/3):int(dims[2]/3) + window] # take sub-stack"
   ]
  },
  {
   "cell_type": "code",
   "execution_count": 15,
   "metadata": {},
   "outputs": [],
   "source": [
    "reference = datCrop[refR[0]:refR[1],:,:,:].mean().toarray()\n",
    "register = CrossCorr(axis = 0) \n",
    "model = register.fit(datCrop.median_filter(3), reference=reference)\n",
    "deltas = model.toarray()"
   ]
  },
  {
   "cell_type": "code",
   "execution_count": 16,
   "metadata": {},
   "outputs": [
    {
     "data": {
      "image/png": "[encoded data removed]",
      "text/plain": [
       "<matplotlib.figure.Figure at 0x2b8d991155c0>"
      ]
     },
     "metadata": {},
     "output_type": "display_data"
    }
   ],
   "source": [
    "f, axarr = plt.subplots(1, 2,figsize=(15,5))\n",
    "for x in range(deltas.shape[1]):\n",
    "    axarr[0].plot(deltas[:,x,1] + x + zStart)   \n",
    "    axarr[0].set_title('displacement by X')\n",
    "    axarr[0].set_ylim(-50,50)\n",
    "\n",
    "    axarr[1].plot(deltas[:,x,0] + x + zStart)  \n",
    "    axarr[1].set_title('displacement by Y')\n",
    "    axarr[1].set_ylim(-50,50)"
   ]
  },
  {
   "cell_type": "code",
   "execution_count": 17,
   "metadata": {},
   "outputs": [
    {
     "data": {
      "text/plain": [
       "(1668, 11, 700, 768)"
      ]
     },
     "execution_count": 17,
     "metadata": {},
     "output_type": "execute_result"
    }
   ],
   "source": [
    "# set registration shifts\n",
    "xshift = np.floor(np.median(deltas[:,:,1],axis=1))\n",
    "yshift = np.floor(np.median(deltas[:,:,0],axis=1))\n",
    "\n",
    "for ti in range(len(model.transformations)):\n",
    "    model.transformations[(ti,)].delta = []\n",
    "    for zi in range(dims[0]):\n",
    "        model.transformations[(ti,)].delta.append([yshift[ti],xshift[ti]])\n",
    "\n",
    "# apply registration to full data    \n",
    "datRegistered = model.transform(dat[:numFrames,:,:,:])\n",
    "datRegistered.shape"
   ]
  },
  {
   "cell_type": "code",
   "execution_count": 5,
   "metadata": {
    "collapsed": true
   },
   "outputs": [],
   "source": [
    "procDir = currExp + '/procDir/'\n",
    "if not os.path.exists(procDir):\n",
    "        os.mkdir(procDir)"
   ]
  },
  {
   "cell_type": "code",
   "execution_count": null,
   "metadata": {},
   "outputs": [],
   "source": [
    "datRegistered.tobinary(procDir + '/RegisteredData/', overwrite=True)"
   ]
  },
  {
   "cell_type": "code",
   "execution_count": 6,
   "metadata": {},
   "outputs": [],
   "source": [
    "datRegistered = td.images.frombinary(procDir + '/RegisteredData', npartitions=10000, engine=sc)"
   ]
  },
  {
   "cell_type": "code",
   "execution_count": 20,
   "metadata": {},
   "outputs": [
    {
     "data": {
      "text/plain": [
       "(1668, 11, 700, 768)"
      ]
     },
     "execution_count": 20,
     "metadata": {},
     "output_type": "execute_result"
    }
   ],
   "source": [
    "datRegistered.shape"
   ]
  },
  {
   "cell_type": "code",
   "execution_count": 7,
   "metadata": {},
   "outputs": [],
   "source": [
    "x,y,z = 364,286,8\n",
    "\n",
    "radius = 5\n",
    "datAbdL = datRegistered[:,z,y-radius:y+radius,x-radius:x+radius].toarray().mean(axis=(1,2))\n",
    "\n",
    "x2,y2,z2 = 200,200,8\n",
    "datAbdR = datRegistered[:,z2,y2-radius:y2+radius,x2-radius:x2+radius].toarray().mean(axis=(1,2))\n"
   ]
  },
  {
   "cell_type": "code",
   "execution_count": 8,
   "metadata": {
    "collapsed": true
   },
   "outputs": [],
   "source": [
    "imSeries = datRegistered.toseries().cache()"
   ]
  },
  {
   "cell_type": "code",
   "execution_count": 9,
   "metadata": {
    "collapsed": true
   },
   "outputs": [],
   "source": [
    "freq = volt.getStackFreq(currExp)[0]\n",
    "index = int(freq * 5)"
   ]
  },
  {
   "cell_type": "code",
   "execution_count": 10,
   "metadata": {},
   "outputs": [
    {
     "data": {
      "text/plain": [
       "(1668, 2)"
      ]
     },
     "execution_count": 10,
     "metadata": {},
     "output_type": "execute_result"
    }
   ],
   "source": [
    "regressors = np.column_stack((datAbdL,datAbdR))\n",
    "regressors.shape"
   ]
  },
  {
   "cell_type": "code",
   "execution_count": 11,
   "metadata": {},
   "outputs": [
    {
     "name": "stdout",
     "output_type": "stream",
     "text": [
      "CPU times: user 1.85 ms, sys: 0 ns, total: 1.85 ms\n",
      "Wall time: 2.18 ms\n"
     ]
    }
   ],
   "source": [
    "%%time\n",
    "model = FastLinearRegression(fit_intercept=False).fit(regressors, imSeries)"
   ]
  },
  {
   "cell_type": "code",
   "execution_count": 12,
   "metadata": {
    "collapsed": true
   },
   "outputs": [],
   "source": [
    "results = model.betas_and_scores.toarray()"
   ]
  },
  {
   "cell_type": "code",
   "execution_count": 15,
   "metadata": {},
   "outputs": [],
   "source": [
    "betas, stats = results[:,:,:, 1:3], results[:,:,:, 3]"
   ]
  },
  {
   "cell_type": "code",
   "execution_count": 14,
   "metadata": {},
   "outputs": [
    {
     "data": {
      "text/plain": [
       "(11, 700, 768, 4)"
      ]
     },
     "execution_count": 14,
     "metadata": {},
     "output_type": "execute_result"
    }
   ],
   "source": [
    "results.shape"
   ]
  },
  {
   "cell_type": "code",
   "execution_count": 16,
   "metadata": {},
   "outputs": [],
   "source": [
    "imAbdL = (betas[:,:,:,0]*stats)\n",
    "imAbdR = (betas[:,:,:,1]*stats)"
   ]
  },
  {
   "cell_type": "code",
   "execution_count": 17,
   "metadata": {},
   "outputs": [
    {
     "data": {
      "text/plain": [
       "(11, 700, 768, 2)"
      ]
     },
     "execution_count": 17,
     "metadata": {},
     "output_type": "execute_result"
    }
   ],
   "source": [
    "betas.shape"
   ]
  },
  {
   "cell_type": "code",
   "execution_count": 18,
   "metadata": {},
   "outputs": [
    {
     "data": {
      "text/plain": [
       "(-1, 1)"
      ]
     },
     "execution_count": 18,
     "metadata": {},
     "output_type": "execute_result"
    },
    {
     "data": {
      "image/png": "[encoded data removed]",
      "text/plain": [
       "<matplotlib.figure.Figure at 0x2b3e0df2c438>"
      ]
     },
     "metadata": {},
     "output_type": "display_data"
    }
   ],
   "source": [
    "# check, histograms of (betas x R2)\n",
    "out = plt.hist([ imAbdL.flatten(), imAbdR.flatten()],np.arange(-1,1,0.1), log = True, \\\n",
    "               color = ['blue', 'red'],\\\n",
    "               label=['AbdL', 'AbdR'])\n",
    "plt.legend()\n",
    "plt.xlim([-1, 1])"
   ]
  },
  {
   "cell_type": "code",
   "execution_count": 25,
   "metadata": {},
   "outputs": [
    {
     "data": {
      "text/plain": [
       "(11, 700, 768)"
      ]
     },
     "execution_count": 25,
     "metadata": {},
     "output_type": "execute_result"
    }
   ],
   "source": [
    "imAbdL.shape"
   ]
  },
  {
   "cell_type": "code",
   "execution_count": 26,
   "metadata": {},
   "outputs": [
    {
     "data": {
      "text/plain": [
       "<matplotlib.image.AxesImage at 0x2b3e0e7867b8>"
      ]
     },
     "execution_count": 26,
     "metadata": {},
     "output_type": "execute_result"
    },
    {
     "data": {
      "image/png": "[encoded data removed]",
      "text/plain": [
       "<matplotlib.figure.Figure at 0x2b3e0e5e2a58>"
      ]
     },
     "metadata": {},
     "output_type": "display_data"
    }
   ],
   "source": [
    "plt.imshow(imAbdL[0,:,:])"
   ]
  },
  {
   "cell_type": "code",
   "execution_count": 28,
   "metadata": {},
   "outputs": [],
   "source": [
    "imTiffAbdL = imAbdL * 10\n",
    "tifffile.imsave(procDir + 'imAbdLgamma_gamma0.5.tif',imTiffAbdL.astype(np.uint16))\n",
    "\n",
    "imTiffAbdR = imAbdR * 10\n",
    "tifffile.imsave(procDir + 'imAbdRgamma_gamma0.5.tif',imTiffAbdR.astype(np.uint16))"
   ]
  }
 ],
 "metadata": {
  "anaconda-cloud": {},
  "kernelspec": {
   "display_name": "Python [conda root]",
   "language": "python",
   "name": "conda-root-py"
  },
  "language_info": {
   "codemirror_mode": {
    "name": "ipython",
    "version": 3
   },
   "file_extension": ".py",
   "mimetype": "text/x-python",
   "name": "python",
   "nbconvert_exporter": "python",
   "pygments_lexer": "ipython3",
   "version": "3.5.2"
  }
 },
 "nbformat": 4,
 "nbformat_minor": 1
}
